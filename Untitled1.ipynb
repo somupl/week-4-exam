{
 "cells": [
  {
   "cell_type": "code",
   "execution_count": 3,
   "metadata": {},
   "outputs": [
    {
     "name": "stdout",
     "output_type": "stream",
     "text": [
      "0 ryan\n",
      "\n",
      "1 jon\n",
      "\n",
      "2 giovanna\n",
      "\n",
      "3 adam\n",
      "\n",
      "4 ryan\n",
      "\n",
      "5 zack\n",
      "\n",
      "6 michael\n",
      "\n",
      "7 ajay\n",
      "\n",
      "8 erin\n",
      "\n",
      "9 eric\n",
      "\n",
      "10 sri\n",
      "\n",
      "11 prasad\n",
      "\n",
      "12 tripti\n",
      "\n",
      "13 bruno\n",
      "\n",
      "14 stephen\n",
      "\n",
      "15 wini\n",
      "\n",
      "16 adam\n",
      "\n",
      "17 dan\n",
      "\n",
      "18 jana\n",
      "\n",
      "19 jonny\n",
      "\n"
     ]
    }
   ],
   "source": [
    "with open('data/people.txt') as f:\n",
    "        for i,line in enumerate(f):\n",
    "            print(i, line)"
   ]
  },
  {
   "cell_type": "code",
   "execution_count": null,
   "metadata": {},
   "outputs": [],
   "source": []
  }
 ],
 "metadata": {
  "kernelspec": {
   "display_name": "Python 3",
   "language": "python",
   "name": "python3"
  },
  "language_info": {
   "codemirror_mode": {
    "name": "ipython",
    "version": 3
   },
   "file_extension": ".py",
   "mimetype": "text/x-python",
   "name": "python",
   "nbconvert_exporter": "python",
   "pygments_lexer": "ipython3",
   "version": "3.7.1"
  }
 },
 "nbformat": 4,
 "nbformat_minor": 2
}
